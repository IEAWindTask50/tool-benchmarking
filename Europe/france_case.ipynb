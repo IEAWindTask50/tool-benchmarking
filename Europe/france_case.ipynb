{
 "cells": [
  {
   "cell_type": "code",
   "execution_count": 1,
   "id": "1c98eedc-3867-4442-a33b-7971ed6e6646",
   "metadata": {},
   "outputs": [],
   "source": [
    "import time\n",
    "import numpy as np\n",
    "import pandas as pd\n",
    "import os\n",
    "\n",
    "from hydesign.assembly.hpp_assembly import hpp_model\n",
    "from hydesign.examples import examples_filepath"
   ]
  },
  {
   "cell_type": "code",
   "execution_count": 2,
   "id": "9031ce7e-a058-4e17-8977-d4f2aa876bc7",
   "metadata": {},
   "outputs": [
    {
     "name": "stdout",
     "output_type": "stream",
     "text": [
      "Selected example site:\n",
      "---------------------------------------------------\n",
      "case                                              Europe\n",
      "name                                    France_good_wind\n",
      "longitude                                      -0.864258\n",
      "latitude                                       48.744116\n",
      "altitude                                             302\n",
      "input_ts_fn      hyd_input/input_ts_France_good_wind.csv\n",
      "sim_pars_fn                       hyd_input/hpp_pars.yml\n",
      "price_fn                     hyd_input/2030-EL_PRICE.csv\n",
      "price_col                                           FR_R\n",
      "H2_demand_col                    hyd_input/H2_demand.csv\n",
      "Name: 0, dtype: object\n",
      "\n",
      "Fixed parameters on the site\n",
      "-------------------------------\n",
      "longitude = -0.864258\n",
      "latitude = 48.744116\n",
      "altitude = 302\n",
      "\n",
      "input_ts_fn length is not a complete number of years (hyDesign handles years as 365 days).\n",
      "The file has been modified and stored in ./input_ts_modified.csv\n"
     ]
    }
   ],
   "source": [
    "sites = pd.read_csv('overview.csv', index_col=0)\n",
    "example = 0\n",
    "\n",
    "ex_site = sites.iloc[int(example),:]\n",
    "\n",
    "print('Selected example site:')\n",
    "print('---------------------------------------------------')\n",
    "print(ex_site.T)\n",
    "\n",
    "longitude = ex_site['longitude']\n",
    "latitude = ex_site['latitude']\n",
    "altitude = ex_site['altitude']\n",
    "input_ts_fn = os.path.join(os.getcwd(), ex_site['input_ts_fn'])\n",
    "sim_pars_fn = os.path.join(os.getcwd(), ex_site['sim_pars_fn'])\n",
    "\n",
    "hpp = hpp_model(\n",
    "        latitude,\n",
    "        longitude,\n",
    "        altitude,\n",
    "        num_batteries = 10,\n",
    "        work_dir = './',\n",
    "        sim_pars_fn = sim_pars_fn,\n",
    "        input_ts_fn = input_ts_fn,\n",
    "        save_battry_rf_filename='battery_rf.csv',\n",
    ")\n",
    "\n",
    "inputs = dict(\n",
    "clearance =\t60,\n",
    "sp =\t287.6391934,\n",
    "p_rated =\t10,\n",
    "Nwt\t=\t25,\n",
    "wind_MW_per_km2 =\t4.782274215,\n",
    "solar_MW =\t223.2191223,\n",
    "surface_tilt =\t50,\n",
    "surface_azimuth = 210,\n",
    "DC_AC_ratio\t=1.295598428,\n",
    "b_P =75.27402422,\n",
    "b_E_h=\t4.451612903,\n",
    "cost_of_battery_P_fluct_in_peak_price_ratio\t=0.580645161,)"
   ]
  },
  {
   "cell_type": "code",
   "execution_count": 3,
   "id": "b52c2243-b60a-43c9-a0e9-0295fec2b930",
   "metadata": {},
   "outputs": [
    {
     "name": "stdout",
     "output_type": "stream",
     "text": [
      "\n",
      "Design:\n",
      "---------------\n",
      "clearance [m]: 60.000\n",
      "sp [W/m2]: 287.639\n",
      "p_rated [MW]: 10.000\n",
      "Nwt: 25.000\n",
      "wind_MW_per_km2 [MW/km2]: 4.782\n",
      "solar_MW [MW]: 223.219\n",
      "surface_tilt [deg]: 50.000\n",
      "surface_azimuth [deg]: 210.000\n",
      "DC_AC_ratio: 1.296\n",
      "b_P [MW]: 75.274\n",
      "b_E_h [h]: 4.452\n",
      "cost_of_battery_P_fluct_in_peak_price_ratio: 0.581\n",
      "\n",
      "\n",
      "NPV_over_CAPEX: 1.060\n",
      "NPV [MEuro]: 455.417\n",
      "IRR: 0.128\n",
      "LCOE [Euro/MWh]: 32.548\n",
      "Revenues [MEuro]: 46.767\n",
      "CAPEX [MEuro]: 429.684\n",
      "OPEX [MEuro]: 7.260\n",
      "Wind CAPEX [MEuro]: 275.586\n",
      "Wind OPEX [MEuro]: 5.958\n",
      "PV CAPEX [MEuro]: 65.197\n",
      "PV OPEX [MEuro]: 1.301\n",
      "Batt CAPEX [MEuro]: 22.236\n",
      "Batt OPEX [MEuro]: 0.000\n",
      "Shared CAPEX [MEuro]: 66.665\n",
      "Shared Opex [MEuro]: 0.000\n",
      "penalty lifetime [MEuro]: 0.000\n",
      "AEP [GWh]: 1163.214\n",
      "GUF: 0.443\n",
      "grid [MW]: 300.000\n",
      "wind [MW]: 250.000\n",
      "solar [MW]: 223.219\n",
      "Battery Energy [MWh]: 335.091\n",
      "Battery Power [MW]: 75.274\n",
      "Total curtailment [GWh]: 86.031\n",
      "Awpp [km2]: 52.276\n",
      "Apvp [km2]: 2.737\n",
      "Plant area [km2]: 52.276\n",
      "Rotor diam [m]: 210.393\n",
      "Hub height [m]: 165.196\n",
      "Number of batteries used in lifetime: 2.000\n",
      "Break-even PPA price [Euro/MWh]: 21.492\n",
      "Capacity factor wind [-]: 0.416\n",
      "\n",
      "exec. time [min]: 0.15248510837554932\n",
      "[1.05988714]\n"
     ]
    }
   ],
   "source": [
    "start = time.time()\n",
    "outs = hpp.evaluate(**inputs)\n",
    "hpp.print_design([v for k,v in inputs.items()], outs)\n",
    "end = time.time()\n",
    "print('exec. time [min]:', (end - start)/60 )\n",
    "print(hpp.prob['NPV_over_CAPEX'])"
   ]
  },
  {
   "cell_type": "code",
   "execution_count": 4,
   "id": "864562f3-750e-43e8-b12c-5acc5fd591d7",
   "metadata": {},
   "outputs": [
    {
     "name": "stdout",
     "output_type": "stream",
     "text": [
      "/home/cbay/tool-benchmarking/Europe/log/hybrid_systems_2024-05-12T16.31.36.216823.log\n"
     ]
    }
   ],
   "source": [
    "from hopp.simulation import HoppInterface"
   ]
  },
  {
   "cell_type": "code",
   "execution_count": 9,
   "id": "b9cd5cd7-364d-4c52-aaf7-a621590bb1fc",
   "metadata": {},
   "outputs": [
    {
     "name": "stdout",
     "output_type": "stream",
     "text": [
      "FLORIS is the system model...\n"
     ]
    }
   ],
   "source": [
    "hi = HoppInterface(os.path.join(os.getcwd(), \"hopp_input/08-wind-solar-france.yaml\"))"
   ]
  },
  {
   "cell_type": "code",
   "execution_count": 10,
   "id": "89bdbc7f-38ca-4441-9856-7c90d20b4762",
   "metadata": {},
   "outputs": [
    {
     "name": "stdout",
     "output_type": "stream",
     "text": [
      "Simulating wind farm output in FLORIS...\n"
     ]
    }
   ],
   "source": [
    "hi.simulate(25)"
   ]
  },
  {
   "cell_type": "code",
   "execution_count": 11,
   "id": "ad4f2f9b-5cf4-4504-989a-f81dfc0f03b9",
   "metadata": {},
   "outputs": [
    {
     "name": "stdout",
     "output_type": "stream",
     "text": [
      "Wind Installed Cost [M$]: 241.227\n",
      "Solar Installed Cost [M$]: 54.989034800000006\n",
      "Battery Installed Cost [M$]: 17.5693665\n",
      "Hybrid Installed Cost [M$]: 313.7854013\n",
      "\n",
      "Wind NPV [M$]: 43.13380019290936\n",
      "Solar NPV [M$]: 2.545612164523393\n",
      "Hybrid NPV [M$]: 39.73664301620609\n",
      "\n",
      "Annual Energies [kW] {\"pv\": 277789162.6089397, \"wind\": 663116990.2109435, \"battery\": -2859748.7759711565, \"hybrid\": 936837216.2571286}\n",
      "Capacity Factors {\"pv\": 18.486286595799378, \"wind\": 30.279314621504266, \"battery\": 0, \"hybrid\": 21.565886860864747}\n",
      "NPV [$] {\"pv\": 2545612.164523393, \"wind\": 43133800.19290936, \"battery\": -2140217.4290492404, \"hybrid\": 39736643.016206086}\n",
      "LCOE [cents/kWh] {\"pv\": 2.4773060421576454, \"wind\": 2.9739200415014664, \"battery\": 5.048881089434874, \"hybrid\": 3.1005842519559565} \n",
      "\n",
      "Hybrid LCOE [$/MWh] 31.005842519559565\n"
     ]
    }
   ],
   "source": [
    "hybrid_plant = hi.system\n",
    "\n",
    "annual_energies = hybrid_plant.annual_energies\n",
    "npvs = hybrid_plant.net_present_values\n",
    "cf = hybrid_plant.capacity_factors\n",
    "\n",
    "wind_installed_cost = hybrid_plant.wind.total_installed_cost\n",
    "solar_installed_cost = hybrid_plant.pv.total_installed_cost\n",
    "battery_installed_cost = hybrid_plant.battery.total_installed_cost\n",
    "hybrid_installed_cost = hybrid_plant.grid.total_installed_cost\n",
    "\n",
    "print(\"Wind Installed Cost [M$]: {}\".format(wind_installed_cost/1e6))\n",
    "print(\"Solar Installed Cost [M$]: {}\".format(solar_installed_cost/1e6))\n",
    "print(\"Battery Installed Cost [M$]: {}\".format(battery_installed_cost/1e6))\n",
    "print(\"Hybrid Installed Cost [M$]: {}\\n\".format(hybrid_installed_cost/1e6))\n",
    "\n",
    "print(\"Wind NPV [M$]: {}\".format(hybrid_plant.net_present_values.wind/1e6))\n",
    "print(\"Solar NPV [M$]: {}\".format(hybrid_plant.net_present_values.pv/1e6))\n",
    "print(\"Hybrid NPV [M$]: {}\\n\".format(hybrid_plant.net_present_values.hybrid/1e6))\n",
    "\n",
    "print(\"Annual Energies [kW]\",annual_energies)\n",
    "print(\"Capacity Factors\",cf)\n",
    "print(\"NPV [$]\", npvs)\n",
    "\n",
    "print(\"LCOE [cents/kWh]\", hybrid_plant.lcoe_real,\"\\n\")\n",
    "\n",
    "print(\"Hybrid LCOE [$/MWh]\", hybrid_plant.lcoe_real['hybrid']*10)"
   ]
  },
  {
   "cell_type": "code",
   "execution_count": 7,
   "id": "ce2e9043-b730-48ab-9033-3f5925c05d61",
   "metadata": {},
   "outputs": [],
   "source": [
    "import json\n",
    "\n",
    "with open(\"singleowner.json\", 'w') as f:\n",
    "    dat = hybrid_plant.grid._financial_model.export()\n",
    "    d = dict()\n",
    "    for k, v in dat.items():\n",
    "        d.update(v)\n",
    "    json.dump(d, f)"
   ]
  }
 ],
 "metadata": {
  "kernelspec": {
   "display_name": "Python 3 (ipykernel)",
   "language": "python",
   "name": "python3"
  },
  "language_info": {
   "codemirror_mode": {
    "name": "ipython",
    "version": 3
   },
   "file_extension": ".py",
   "mimetype": "text/x-python",
   "name": "python",
   "nbconvert_exporter": "python",
   "pygments_lexer": "ipython3",
   "version": "3.10.14"
  }
 },
 "nbformat": 4,
 "nbformat_minor": 5
}
