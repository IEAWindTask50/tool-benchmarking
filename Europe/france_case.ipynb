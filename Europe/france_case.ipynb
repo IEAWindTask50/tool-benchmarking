{
 "cells": [
  {
   "cell_type": "code",
   "execution_count": 1,
   "id": "1c98eedc-3867-4442-a33b-7971ed6e6646",
   "metadata": {},
   "outputs": [],
   "source": [
    "import time\n",
    "import numpy as np\n",
    "import pandas as pd\n",
    "import os\n",
    "\n",
    "from hydesign.assembly.hpp_assembly import hpp_model\n",
    "from hydesign.examples import examples_filepath"
   ]
  },
  {
   "cell_type": "code",
   "execution_count": 2,
   "id": "9031ce7e-a058-4e17-8977-d4f2aa876bc7",
   "metadata": {},
   "outputs": [
    {
     "name": "stdout",
     "output_type": "stream",
     "text": [
      "Selected example site:\n",
      "---------------------------------------------------\n",
      "case                                              Europe\n",
      "name                                    France_good_wind\n",
      "longitude                                      -0.864258\n",
      "latitude                                       48.744116\n",
      "altitude                                             302\n",
      "input_ts_fn      Resources/input_ts_France_good_wind.csv\n",
      "sim_pars_fn                      Parameters/hpp_pars.yml\n",
      "price_fn                     Resources/2030-EL_PRICE.csv\n",
      "price_col                                           FR_R\n",
      "H2_demand_col                    Resources/H2_demand.csv\n",
      "Name: 0, dtype: object\n",
      "\n",
      "Fixed parameters on the site\n",
      "-------------------------------\n",
      "longitude = -0.864258\n",
      "latitude = 48.744116\n",
      "altitude = 302\n"
     ]
    }
   ],
   "source": [
    "sites = pd.read_csv('overview.csv', index_col=0)\n",
    "example = 0\n",
    "\n",
    "ex_site = sites.iloc[int(example),:]\n",
    "\n",
    "print('Selected example site:')\n",
    "print('---------------------------------------------------')\n",
    "print(ex_site.T)\n",
    "\n",
    "longitude = ex_site['longitude']\n",
    "latitude = ex_site['latitude']\n",
    "altitude = ex_site['altitude']\n",
    "input_ts_fn = os.path.join(os.getcwd(), ex_site['input_ts_fn'])\n",
    "sim_pars_fn = os.path.join(os.getcwd(), ex_site['sim_pars_fn'])\n",
    "\n",
    "hpp = hpp_model(\n",
    "        latitude,\n",
    "        longitude,\n",
    "        altitude,\n",
    "        num_batteries = 10,\n",
    "        work_dir = './',\n",
    "        sim_pars_fn = sim_pars_fn,\n",
    "        input_ts_fn = input_ts_fn,\n",
    "        save_battry_rf_filename='battery_rf.csv',\n",
    ")\n",
    "\n",
    "inputs = dict(\n",
    "clearance =\t60,\n",
    "sp =\t287.6391934,\n",
    "p_rated =\t10,\n",
    "Nwt\t=\t25,\n",
    "wind_MW_per_km2 =\t4.782274215,\n",
    "solar_MW =\t223.2191223,\n",
    "surface_tilt =\t50,\n",
    "surface_azimuth = 210,\n",
    "DC_AC_ratio\t=1.295598428,\n",
    "b_P =75.27402422,\n",
    "b_E_h=\t4.451612903,\n",
    "cost_of_battery_P_fluct_in_peak_price_ratio\t=0.580645161,)"
   ]
  },
  {
   "cell_type": "code",
   "execution_count": 14,
   "id": "b52c2243-b60a-43c9-a0e9-0295fec2b930",
   "metadata": {},
   "outputs": [
    {
     "name": "stdout",
     "output_type": "stream",
     "text": [
      "\n",
      "Design:\n",
      "---------------\n",
      "clearance [m]: 60.000\n",
      "sp [W/m2]: 287.639\n",
      "p_rated [MW]: 10.000\n",
      "Nwt: 25.000\n",
      "wind_MW_per_km2 [MW/km2]: 4.782\n",
      "solar_MW [MW]: 223.219\n",
      "surface_tilt [deg]: 50.000\n",
      "surface_azimuth [deg]: 210.000\n",
      "DC_AC_ratio: 1.296\n",
      "b_P [MW]: 75.274\n",
      "b_E_h [h]: 4.452\n",
      "cost_of_battery_P_fluct_in_peak_price_ratio: 0.581\n",
      "\n",
      "\n",
      "NPV_over_CAPEX: 1.055\n",
      "NPV [MEuro]: 453.510\n",
      "IRR: 0.128\n",
      "LCOE [Euro/MWh]: 32.526\n",
      "CAPEX [MEuro]: 429.684\n",
      "OPEX [MEuro]: 7.268\n",
      "Wind CAPEX [MEuro]: 275.586\n",
      "Wind OPEX [MEuro]: 5.966\n",
      "PV CAPEX [MEuro]: 65.197\n",
      "PV OPEX [MEuro]: 1.301\n",
      "Batt CAPEX [MEuro]: 22.236\n",
      "Batt OPEX [MEuro]: 0.000\n",
      "Shared CAPEX [MEuro]: 66.665\n",
      "Shared Opex [MEuro]: 0.000\n",
      "penalty lifetime [MEuro]: 0.000\n",
      "AEP [GWh]: 1163.360\n",
      "GUF: 0.443\n",
      "grid [MW]: 300.000\n",
      "wind [MW]: 250.000\n",
      "solar [MW]: 223.219\n",
      "Battery Energy [MWh]: 335.091\n",
      "Battery Power [MW]: 75.274\n",
      "Total curtailment [GWh]: 85.643\n",
      "Awpp [km2]: 52.276\n",
      "Apvp [km2]: 2.737\n",
      "Plant area [km2]: 52.276\n",
      "Rotor diam [m]: 210.393\n",
      "Hub height [m]: 165.196\n",
      "Number of batteries used in lifetime: 2.000\n",
      "Break-even PPA price [Euro/MWh]: 21.498\n",
      "Capacity factor wind [-]: 0.416\n",
      "\n",
      "exec. time [min]: 0.22010478178660076\n",
      "[1.0554497]\n"
     ]
    }
   ],
   "source": [
    "start = time.time()\n",
    "outs = hpp.evaluate(**inputs)\n",
    "hpp.print_design([v for k,v in inputs.items()], outs)\n",
    "end = time.time()\n",
    "print('exec. time [min]:', (end - start)/60 )\n",
    "print(hpp.prob['NPV_over_CAPEX'])"
   ]
  },
  {
   "cell_type": "code",
   "execution_count": 4,
   "id": "864562f3-750e-43e8-b12c-5acc5fd591d7",
   "metadata": {},
   "outputs": [
    {
     "name": "stdout",
     "output_type": "stream",
     "text": [
      "C:\\Sandbox\\Repo\\IEAWindTask50\\tool-benchmarking\\Europe\\log\\hybrid_systems_2024-02-02T18.17.23.307783.log\n"
     ]
    }
   ],
   "source": [
    "from hopp.simulation import HoppInterface"
   ]
  },
  {
   "cell_type": "code",
   "execution_count": 10,
   "id": "b9cd5cd7-364d-4c52-aaf7-a621590bb1fc",
   "metadata": {},
   "outputs": [],
   "source": [
    "hi = HoppInterface(os.path.join(os.getcwd(), \"hopp_input/08-wind-solar-france.yaml\"))"
   ]
  },
  {
   "cell_type": "code",
   "execution_count": 11,
   "id": "89bdbc7f-38ca-4441-9856-7c90d20b4762",
   "metadata": {},
   "outputs": [],
   "source": [
    "hi.simulate(25)"
   ]
  },
  {
   "cell_type": "code",
   "execution_count": 12,
   "id": "ad4f2f9b-5cf4-4504-989a-f81dfc0f03b9",
   "metadata": {},
   "outputs": [
    {
     "name": "stdout",
     "output_type": "stream",
     "text": [
      "Wind Installed Cost: 363500000.0\n",
      "Solar Installed Cost: 214080000.0\n",
      "Hybrid Installed Cost: 577580000.0\n",
      "Wind NPV: -315681529.8730659\n",
      "Solar NPV: -151636398.5317718\n",
      "Hybrid NPV: -469950077.6859784\n",
      "{\"pv\": 277789162.6113242, \"wind\": 371060597.8289184, \"hybrid\": 648291985.4829193}\n",
      "{\"pv\": 18.48628659595806, \"wind\": 16.943406293557917, \"hybrid\": 17.57125721953462}\n",
      "{\"pv\": -151636398.5317718, \"wind\": -315681529.8730659, \"hybrid\": -469950077.6859784}\n"
     ]
    }
   ],
   "source": [
    "hybrid_plant = hi.system\n",
    "\n",
    "annual_energies = hybrid_plant.annual_energies\n",
    "npvs = hybrid_plant.net_present_values\n",
    "cf = hybrid_plant.capacity_factors\n",
    "\n",
    "wind_installed_cost = hybrid_plant.wind.total_installed_cost\n",
    "solar_installed_cost = hybrid_plant.pv.total_installed_cost\n",
    "hybrid_installed_cost = hybrid_plant.grid.total_installed_cost\n",
    "\n",
    "print(\"Wind Installed Cost: {}\".format(wind_installed_cost))\n",
    "print(\"Solar Installed Cost: {}\".format(solar_installed_cost))\n",
    "print(\"Hybrid Installed Cost: {}\".format(hybrid_installed_cost))\n",
    "\n",
    "print(\"Wind NPV: {}\".format(hybrid_plant.net_present_values.wind))\n",
    "print(\"Solar NPV: {}\".format(hybrid_plant.net_present_values.pv))\n",
    "print(\"Hybrid NPV: {}\".format(hybrid_plant.net_present_values.hybrid))\n",
    "\n",
    "print(annual_energies)\n",
    "print(cf)\n",
    "print(npvs)"
   ]
  },
  {
   "cell_type": "code",
   "execution_count": null,
   "id": "ce2e9043-b730-48ab-9033-3f5925c05d61",
   "metadata": {},
   "outputs": [],
   "source": []
  }
 ],
 "metadata": {
  "kernelspec": {
   "display_name": "Python 3 (ipykernel)",
   "language": "python",
   "name": "python3"
  },
  "language_info": {
   "codemirror_mode": {
    "name": "ipython",
    "version": 3
   },
   "file_extension": ".py",
   "mimetype": "text/x-python",
   "name": "python",
   "nbconvert_exporter": "python",
   "pygments_lexer": "ipython3",
   "version": "3.8.18"
  }
 },
 "nbformat": 4,
 "nbformat_minor": 5
}
