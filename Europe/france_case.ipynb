{
 "cells": [
  {
   "cell_type": "code",
   "execution_count": 1,
   "id": "1c98eedc-3867-4442-a33b-7971ed6e6646",
   "metadata": {},
   "outputs": [],
   "source": [
    "import time\n",
    "import numpy as np\n",
    "import pandas as pd\n",
    "import os\n",
    "\n",
    "# from hydesign.assembly.hpp_assembly import hpp_model\n",
    "# from hydesign.examples import examples_filepath"
   ]
  },
  {
   "cell_type": "code",
   "execution_count": null,
   "id": "9031ce7e-a058-4e17-8977-d4f2aa876bc7",
   "metadata": {},
   "outputs": [],
   "source": [
    "sites = pd.read_csv('overview.csv', index_col=0)\n",
    "example = 0\n",
    "\n",
    "ex_site = sites.iloc[int(example),:]\n",
    "\n",
    "print('Selected example site:')\n",
    "print('---------------------------------------------------')\n",
    "print(ex_site.T)\n",
    "\n",
    "longitude = ex_site['longitude']\n",
    "latitude = ex_site['latitude']\n",
    "altitude = ex_site['altitude']\n",
    "input_ts_fn = os.path.join(os.getcwd(), ex_site['input_ts_fn'])\n",
    "sim_pars_fn = os.path.join(os.getcwd(), ex_site['sim_pars_fn'])\n",
    "\n",
    "hpp = hpp_model(\n",
    "        latitude,\n",
    "        longitude,\n",
    "        altitude,\n",
    "        num_batteries = 10,\n",
    "        work_dir = './',\n",
    "        sim_pars_fn = sim_pars_fn,\n",
    "        input_ts_fn = input_ts_fn,\n",
    "        save_battry_rf_filename='battery_rf.csv',\n",
    ")\n",
    "\n",
    "inputs = dict(\n",
    "clearance =\t60,\n",
    "sp =\t287.6391934,\n",
    "p_rated =\t10,\n",
    "Nwt\t=\t25,\n",
    "wind_MW_per_km2 =\t4.782274215,\n",
    "solar_MW =\t223.2191223,\n",
    "surface_tilt =\t50,\n",
    "surface_azimuth = 210,\n",
    "DC_AC_ratio\t=1.295598428,\n",
    "b_P =75.27402422,\n",
    "b_E_h=\t4.451612903,\n",
    "cost_of_battery_P_fluct_in_peak_price_ratio\t=0.580645161,)"
   ]
  },
  {
   "cell_type": "code",
   "execution_count": null,
   "id": "b52c2243-b60a-43c9-a0e9-0295fec2b930",
   "metadata": {},
   "outputs": [],
   "source": [
    "start = time.time()\n",
    "outs = hpp.evaluate(**inputs)\n",
    "hpp.print_design([v for k,v in inputs.items()], outs)\n",
    "end = time.time()\n",
    "print('exec. time [min]:', (end - start)/60 )\n",
    "print(hpp.prob['NPV_over_CAPEX'])"
   ]
  },
  {
   "cell_type": "code",
   "execution_count": 2,
   "id": "864562f3-750e-43e8-b12c-5acc5fd591d7",
   "metadata": {},
   "outputs": [
    {
     "name": "stdout",
     "output_type": "stream",
     "text": [
      "/Users/kbrunik/github/tool-benchmarking/Europe/log/hybrid_systems_2024-05-02T10.58.02.357875.log\n"
     ]
    },
    {
     "name": "stderr",
     "output_type": "stream",
     "text": [
      "/Users/kbrunik/anaconda3/envs/gh/lib/python3.8/site-packages/fastkml/config.py:28: UserWarning: Package `lxml` missing. Pretty print will be disabled\n",
      "  warnings.warn(\"Package `lxml` missing. Pretty print will be disabled\")\n"
     ]
    }
   ],
   "source": [
    "from hopp.simulation import HoppInterface"
   ]
  },
  {
   "cell_type": "code",
   "execution_count": 3,
   "id": "b9cd5cd7-364d-4c52-aaf7-a621590bb1fc",
   "metadata": {},
   "outputs": [
    {
     "name": "stdout",
     "output_type": "stream",
     "text": [
      "FLORIS is the system model...\n"
     ]
    }
   ],
   "source": [
    "hi = HoppInterface(os.path.join(os.getcwd(), \"hopp_input/08-wind-solar-france.yaml\"))"
   ]
  },
  {
   "cell_type": "code",
   "execution_count": null,
   "id": "82348717",
   "metadata": {},
   "outputs": [],
   "source": []
  },
  {
   "cell_type": "code",
   "execution_count": 4,
   "id": "89bdbc7f-38ca-4441-9856-7c90d20b4762",
   "metadata": {},
   "outputs": [
    {
     "name": "stdout",
     "output_type": "stream",
     "text": [
      "Simulating wind farm output in FLORIS...\n",
      "Wind annual energy:  663116990.2109435\n"
     ]
    }
   ],
   "source": [
    "hi.simulate(25)"
   ]
  },
  {
   "cell_type": "code",
   "execution_count": 8,
   "id": "ad4f2f9b-5cf4-4504-989a-f81dfc0f03b9",
   "metadata": {},
   "outputs": [
    {
     "name": "stdout",
     "output_type": "stream",
     "text": [
      "Wind Installed Cost: 241.227\n",
      "Solar Installed Cost: 54.989034800000006\n",
      "Battery Installed Cost: 17.5693665\n",
      "Hybrid Installed Cost: 313.7854013\n",
      "\n",
      "Wind NPV: 43.13380019290942\n",
      "Solar NPV: 2.545612169117138\n",
      "Hybrid NPV: 39.987899363889575\n",
      "\n",
      "Annual Energies [kW] {\"pv\": 277789162.6264313, \"wind\": 663116990.2109435, \"battery\": -2974975.4070675476, \"hybrid\": 936708992.6552676}\n",
      "Capacity Factors {\"pv\": 18.486286596963403, \"wind\": 30.279314621504266, \"battery\": 0, \"hybrid\": 21.563237776446694}\n",
      "NPV [$] {\"pv\": 2545612.169117138, \"wind\": 43133800.19290942, \"battery\": -1907778.2418845985, \"hybrid\": 39987899.363889575}\n",
      "LCOE [cents/kWh] {\"pv\": 2.4773060420501594, \"wind\": 2.973920041501466, \"battery\": 4.9791566373582095, \"hybrid\": 3.1015048262713227} \n",
      "\n",
      "Hybrid LCOE [$/MWh] 31.01504826271323\n"
     ]
    }
   ],
   "source": [
    "hybrid_plant = hi.system\n",
    "\n",
    "annual_energies = hybrid_plant.annual_energies\n",
    "npvs = hybrid_plant.net_present_values\n",
    "cf = hybrid_plant.capacity_factors\n",
    "\n",
    "wind_installed_cost = hybrid_plant.wind.total_installed_cost\n",
    "solar_installed_cost = hybrid_plant.pv.total_installed_cost\n",
    "battery_installed_cost = hybrid_plant.battery.total_installed_cost\n",
    "hybrid_installed_cost = hybrid_plant.grid.total_installed_cost\n",
    "\n",
    "print(\"Wind Installed Cost [M$]: {}\".format(wind_installed_cost/1e6))\n",
    "print(\"Solar Installed Cost [M$]: {}\".format(solar_installed_cost/1e6))\n",
    "print(\"Battery Installed Cost [M$]: {}\".format(battery_installed_cost/1e6))\n",
    "print(\"Hybrid Installed Cost [M$]: {}\\n\".format(hybrid_installed_cost/1e6))\n",
    "\n",
    "print(\"Wind NPV [M$]: {}\".format(hybrid_plant.net_present_values.wind/1e6))\n",
    "print(\"Solar NPV [M$]: {}\".format(hybrid_plant.net_present_values.pv/1e6))\n",
    "print(\"Hybrid NPV [M$]: {}\\n\".format(hybrid_plant.net_present_values.hybrid/1e6))\n",
    "\n",
    "print(\"Annual Energies [kW]\",annual_energies)\n",
    "print(\"Capacity Factors\",cf)\n",
    "print(\"NPV [$]\", npvs)\n",
    "\n",
    "print(\"LCOE [cents/kWh]\", hybrid_plant.lcoe_real,\"\\n\")\n",
    "\n",
    "print(\"Hybrid LCOE [$/MWh]\", hybrid_plant.lcoe_real['hybrid']*10)"
   ]
  },
  {
   "cell_type": "code",
   "execution_count": 7,
   "id": "ce2e9043-b730-48ab-9033-3f5925c05d61",
   "metadata": {},
   "outputs": [],
   "source": [
    "import json\n",
    "\n",
    "with open(\"singleowner.json\", 'w') as f:\n",
    "    dat = hybrid_plant.grid._financial_model.export()\n",
    "    d = dict()\n",
    "    for k, v in dat.items():\n",
    "        d.update(v)\n",
    "    json.dump(d, f)"
   ]
  }
 ],
 "metadata": {
  "kernelspec": {
   "display_name": "Python 3 (ipykernel)",
   "language": "python",
   "name": "python3"
  },
  "language_info": {
   "codemirror_mode": {
    "name": "ipython",
    "version": 3
   },
   "file_extension": ".py",
   "mimetype": "text/x-python",
   "name": "python",
   "nbconvert_exporter": "python",
   "pygments_lexer": "ipython3",
   "version": "3.8.19"
  }
 },
 "nbformat": 4,
 "nbformat_minor": 5
}
